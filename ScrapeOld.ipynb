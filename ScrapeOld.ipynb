{
 "cells": [
  {
   "cell_type": "code",
   "execution_count": 1,
   "metadata": {},
   "outputs": [
    {
     "name": "stdout",
     "output_type": "stream",
     "text": [
      "Collecting googlesearch-python\n",
      "  Downloading googlesearch-python-1.2.3.tar.gz (3.9 kB)\n",
      "  Preparing metadata (setup.py): started\n",
      "  Preparing metadata (setup.py): finished with status 'done'\n",
      "Collecting bs4\n",
      "  Using cached bs4-0.0.1.tar.gz (1.1 kB)\n",
      "  Preparing metadata (setup.py): started\n",
      "  Preparing metadata (setup.py): finished with status 'done'\n",
      "Collecting beautifulsoup4>=4.9\n",
      "  Downloading beautifulsoup4-4.12.2-py3-none-any.whl (142 kB)\n",
      "     -------------------------------------- 143.0/143.0 kB 4.3 MB/s eta 0:00:00\n",
      "Requirement already satisfied: requests>=2.20 in c:\\python311\\lib\\site-packages (from googlesearch-python) (2.31.0)\n",
      "Collecting soupsieve>1.2\n",
      "  Downloading soupsieve-2.5-py3-none-any.whl (36 kB)\n",
      "Requirement already satisfied: charset-normalizer<4,>=2 in c:\\python311\\lib\\site-packages (from requests>=2.20->googlesearch-python) (3.2.0)\n",
      "Requirement already satisfied: idna<4,>=2.5 in c:\\python311\\lib\\site-packages (from requests>=2.20->googlesearch-python) (3.4)\n",
      "Requirement already satisfied: urllib3<3,>=1.21.1 in c:\\python311\\lib\\site-packages (from requests>=2.20->googlesearch-python) (2.0.4)\n",
      "Requirement already satisfied: certifi>=2017.4.17 in c:\\python311\\lib\\site-packages (from requests>=2.20->googlesearch-python) (2023.7.22)\n",
      "Installing collected packages: soupsieve, beautifulsoup4, googlesearch-python, bs4\n",
      "  Running setup.py install for googlesearch-python: started\n",
      "  Running setup.py install for googlesearch-python: finished with status 'done'\n",
      "  Running setup.py install for bs4: started\n",
      "  Running setup.py install for bs4: finished with status 'done'\n",
      "Successfully installed beautifulsoup4-4.12.2 bs4-0.0.1 googlesearch-python-1.2.3 soupsieve-2.5\n",
      "Note: you may need to restart the kernel to use updated packages.\n"
     ]
    },
    {
     "name": "stderr",
     "output_type": "stream",
     "text": [
      "  DEPRECATION: googlesearch-python is being installed using the legacy 'setup.py install' method, because it does not have a 'pyproject.toml' and the 'wheel' package is not installed. pip 23.1 will enforce this behaviour change. A possible replacement is to enable the '--use-pep517' option. Discussion can be found at https://github.com/pypa/pip/issues/8559\n",
      "  DEPRECATION: bs4 is being installed using the legacy 'setup.py install' method, because it does not have a 'pyproject.toml' and the 'wheel' package is not installed. pip 23.1 will enforce this behaviour change. A possible replacement is to enable the '--use-pep517' option. Discussion can be found at https://github.com/pypa/pip/issues/8559\n",
      "\n",
      "[notice] A new release of pip available: 22.3.1 -> 23.2.1\n",
      "[notice] To update, run: python.exe -m pip install --upgrade pip\n"
     ]
    }
   ],
   "source": [
    "%pip install googlesearch-python bs4"
   ]
  },
  {
   "cell_type": "code",
   "execution_count": 2,
   "metadata": {},
   "outputs": [],
   "source": [
    "from googlesearch import search\n",
    "\n",
    "query = \"site:www.ucvtscampuschronicle.com posts\"  # Modify the query as needed"
   ]
  },
  {
   "cell_type": "code",
   "execution_count": 3,
   "metadata": {},
   "outputs": [
    {
     "ename": "KeyboardInterrupt",
     "evalue": "",
     "output_type": "error",
     "traceback": [
      "\u001b[1;31m---------------------------------------------------------------------------\u001b[0m",
      "\u001b[1;31mKeyboardInterrupt\u001b[0m                         Traceback (most recent call last)",
      "Cell \u001b[1;32mIn[3], line 3\u001b[0m\n\u001b[0;32m      1\u001b[0m \u001b[39m# Perform the Google search and extract URLs\u001b[39;00m\n\u001b[0;32m      2\u001b[0m search_results \u001b[39m=\u001b[39m search(query, num_results\u001b[39m=\u001b[39m\u001b[39m10\u001b[39m, sleep_interval\u001b[39m=\u001b[39m\u001b[39m10\u001b[39m)  \u001b[39m# Adjust num and stop based on your needs\u001b[39;00m\n\u001b[1;32m----> 3\u001b[0m urls \u001b[39m=\u001b[39m \u001b[39mlist\u001b[39;49m(search_results)\n",
      "File \u001b[1;32mc:\\Python311\\Lib\\site-packages\\googlesearch\\__init__.py:74\u001b[0m, in \u001b[0;36msearch\u001b[1;34m(term, num_results, lang, proxy, advanced, sleep_interval, timeout)\u001b[0m\n\u001b[0;32m     72\u001b[0m             \u001b[39melse\u001b[39;00m:\n\u001b[0;32m     73\u001b[0m                 \u001b[39myield\u001b[39;00m link[\u001b[39m\"\u001b[39m\u001b[39mhref\u001b[39m\u001b[39m\"\u001b[39m]\n\u001b[1;32m---> 74\u001b[0m sleep(sleep_interval)\n",
      "\u001b[1;31mKeyboardInterrupt\u001b[0m: "
     ]
    }
   ],
   "source": [
    "# Perform the Google search and extract URLs\n",
    "search_results = search(query, num_results=10, sleep_interval=1)  # Adjust num and stop based on your needs\n",
    "urls = list(search_results)"
   ]
  },
  {
   "cell_type": "code",
   "execution_count": 4,
   "metadata": {},
   "outputs": [
    {
     "name": "stdout",
     "output_type": "stream",
     "text": [
      "Extracted URLs:\n"
     ]
    }
   ],
   "source": [
    "print(\"Extracted URLs:\")\n",
    "for url in list(set(search_results)):\n",
    "    print(url)"
   ]
  },
  {
   "cell_type": "code",
   "execution_count": 12,
   "metadata": {},
   "outputs": [],
   "source": [
    "import requests\n",
    "from bs4 import BeautifulSoup\n",
    "\n",
    "query = \"site:https://www.ucvtscampuschronicle.com/%2F+posts&num=80\"  # Modify the query as needed\n",
    "url = f\"https://www.google.com/search?q={query}\"\n",
    "\n",
    "headers = {\n",
    "    \"User-Agent\": \"Mozilla/5.0 (Windows NT 10.0; Win64; x64) AppleWebKit/537.36 (KHTML, like Gecko) Chrome/91.0.4472.124 Safari/537.36\"\n",
    "}\n",
    "\n",
    "response = requests.get(url, headers=headers)\n",
    "\n",
    "if response.status_code == 200:\n",
    "    soup = BeautifulSoup(response.content, 'html.parser')\n",
    "else:\n",
    "    print(f\"Failed to fetch URL: {url}\")\n"
   ]
  },
  {
   "cell_type": "code",
   "execution_count": 13,
   "metadata": {},
   "outputs": [
    {
     "data": {
      "text/plain": [
       "['https://www.ucvtscampuschronicle.com/single-post/practicing-self-love',\n",
       " 'https://www.ucvtscampuschronicle.com/single-post/open-letter-submission',\n",
       " 'https://www.ucvtscampuschronicle.com/single-post/track-5-union-county-s-favorite-cup-o-joe',\n",
       " 'https://www.ucvtscampuschronicle.com/single-post/how-a-person-s-outlook-on-death-affects-their-outlook-on-life',\n",
       " 'https://www.ucvtscampuschronicle.com/single-post/how-shows-and-movies-are-filming-during-the-pandemic',\n",
       " 'https://www.ucvtscampuschronicle.com/single-post/restaurant-reviews-around-union-county',\n",
       " 'https://www.ucvtscampuschronicle.com/single-post/chatgpt-s-meteoric-rise-what-does-the-future-of-communication-look-like',\n",
       " 'https://www.ucvtscampuschronicle.com/single-post/the-fashion-industry-s-not-so-secret-impact',\n",
       " 'https://www.ucvtscampuschronicle.com/single-post/misogyny-in-everyday-life',\n",
       " 'https://www.ucvtscampuschronicle.com/single-post/5-fruits-that-are-good-for-you',\n",
       " 'https://www.ucvtscampuschronicle.com/single-post/boutiques-around-union-county-millburn-edition',\n",
       " 'https://www.ucvtscampuschronicle.com/single-post/behind-the-curtain-a-sneak-peak-at-the-process-of-bringing-a-play-to-life',\n",
       " 'https://www.ucvtscampuschronicle.com/single-post/how-tiktok-is-quickening-the-fashion-trend-cycle',\n",
       " 'https://www.ucvtscampuschronicle.com/single-post/the-problem-with-spotify-wrapped',\n",
       " 'https://www.ucvtscampuschronicle.com/single-post/stage-fright-a-monologue',\n",
       " 'https://www.ucvtscampuschronicle.com/single-post/2019/11/03/concert-review-the-regrettes-at-bowery-ballroom',\n",
       " 'https://www.ucvtscampuschronicle.com/single-post/why-you-should-watch-she-ra-and-the-princesses-of-power',\n",
       " 'https://www.ucvtscampuschronicle.com/single-post/why-rising-gas-prices-are-important',\n",
       " 'https://www.ucvtscampuschronicle.com/single-post/album-review-after-the-gold-rush-by-neil-young',\n",
       " 'https://www.ucvtscampuschronicle.com/single-post/climate-change-the-floods-in-pakistan',\n",
       " 'https://www.ucvtscampuschronicle.com/single-post/the-lack-of-innovation-at-apple',\n",
       " 'https://www.ucvtscampuschronicle.com/single-post/2020/05/23/interview-with-mrs-mansfield-smith-principal-of-magnet-high-school',\n",
       " 'https://www.ucvtscampuschronicle.com/single-post/young-voters-and-midterm-elections-what-s-the-connection',\n",
       " 'https://www.ucvtscampuschronicle.com/single-post/open-veins-of-latin-america-yea-or-nay-book-review',\n",
       " 'https://www.ucvtscampuschronicle.com/single-post/humans-on-mars-spacex-s-quest-to-colonize-the-red-planet',\n",
       " 'https://www.ucvtscampuschronicle.com/single-post/your-brain-on-the-holidays',\n",
       " 'https://www.ucvtscampuschronicle.com/single-post/2019/02/14/outsourcing-to-china-is-depleting-the-united-states-gdp',\n",
       " 'https://www.ucvtscampuschronicle.com/single-post/the-greatness-of-breaking-bad',\n",
       " 'https://www.ucvtscampuschronicle.com/single-post/how-countries-have-handled-coronavirus',\n",
       " 'https://www.ucvtscampuschronicle.com/single-post/recap-of-the-2022-mlb-season',\n",
       " 'https://www.ucvtscampuschronicle.com/single-post/2020/05/17/a-book-review-sans-spoilers-never-let-me-go-by-kazuo-ishiguro',\n",
       " 'https://www.ucvtscampuschronicle.com/single-post/the-science-behind-the-shot-how-vaccines-work',\n",
       " 'https://www.ucvtscampuschronicle.com/single-post/julian-assange-s-extradition-ruling',\n",
       " 'https://www.ucvtscampuschronicle.com/single-post/the-fast-fashion-industry-an-ethical-overview',\n",
       " 'https://www.ucvtscampuschronicle.com/single-post/casper-ruud-tennis-next-star',\n",
       " 'https://www.ucvtscampuschronicle.com/single-post/harry-styles-redefining-masculinity',\n",
       " 'https://www.ucvtscampuschronicle.com/single-post/osu-a-game-with-its-own-rhythm',\n",
       " 'https://www.ucvtscampuschronicle.com/single-post/the-nobel-prize-a-high-honor',\n",
       " 'https://www.ucvtscampuschronicle.com/single-post/lionel-messi-cristiano-ronaldo-football-s-greatest-ever-players',\n",
       " 'https://www.ucvtscampuschronicle.com/single-post/modern-rejection-of-the-gender-binary',\n",
       " 'https://www.ucvtscampuschronicle.com/single-post/scandal-that-broke-the-national-women-s-soccer-league',\n",
       " 'https://www.ucvtscampuschronicle.com/single-post/opinion-the-decline-of-the-grammys',\n",
       " 'https://www.ucvtscampuschronicle.com/single-post/interesting-facts-about-the-human-memory',\n",
       " 'https://www.ucvtscampuschronicle.com/single-post/craziest-places-on-earth-that-look-fictional-but-aren-t',\n",
       " 'https://www.ucvtscampuschronicle.com/single-post/at-the-brink-of-an-artificial-intelligence-cold-war',\n",
       " 'https://www.ucvtscampuschronicle.com/single-post/op-ed-fast-fashion-better-alternatives',\n",
       " 'https://www.ucvtscampuschronicle.com/single-post/exercise-during-the-quarantine-its-importance-and-how-to-implement-it-in-your-own-life',\n",
       " 'https://www.ucvtscampuschronicle.com/single-post/grey-s-anatomy-how-is-it-still-running',\n",
       " 'https://www.ucvtscampuschronicle.com/single-post/album-review-nectar-by-joji',\n",
       " 'https://www.ucvtscampuschronicle.com/single-post/how-the-theft-of-the-mona-lisa-launched-an-ordinary-painting-to-superstar-status',\n",
       " 'https://www.ucvtscampuschronicle.com/single-post/don-t-burn-out-in-high-school',\n",
       " 'https://www.ucvtscampuschronicle.com/single-post/everything-you-need-to-know-about-among-us',\n",
       " 'https://www.ucvtscampuschronicle.com/single-post/revolutionary-progress-in-curing-alzheimer-s-disease',\n",
       " 'https://www.ucvtscampuschronicle.com/single-post/eddie-van-halen-obituary',\n",
       " 'https://www.ucvtscampuschronicle.com/single-post/2020/05/16/movie-review-frozen-2',\n",
       " 'https://www.ucvtscampuschronicle.com/single-post/covering-the-transfer-window-of-the-european-leagues-soccer',\n",
       " 'https://www.ucvtscampuschronicle.com/single-post/2019/05/21/death-by-potatoes-could-mark-watney-really-have-survived-in-the-martian',\n",
       " 'https://www.ucvtscampuschronicle.com/single-post/hybrid-vs-in-person-learning-at-ucvts',\n",
       " 'https://www.ucvtscampuschronicle.com/single-post/2019/11/03/la-esperantisto-and-the-beauty-of-esperanto',\n",
       " 'https://www.ucvtscampuschronicle.com/single-post/the-staggering-decline-in-marvel-s-cinematic-universe',\n",
       " 'https://www.ucvtscampuschronicle.com/single-post/2019/11/03/greta-thunberg-leads-global-climate-strike',\n",
       " 'https://www.ucvtscampuschronicle.com/single-post/2020/05/17/english-a-frankenstein-monster-of-a-language-1',\n",
       " 'https://www.ucvtscampuschronicle.com/single-post/why-you-should-watch-the-marvel-movies',\n",
       " 'https://www.ucvtscampuschronicle.com/single-post/what-lead-to-the-supreme-court-s-politicization',\n",
       " 'https://www.ucvtscampuschronicle.com/single-post/2020/05/16/a-controversial-fight-between-two-controversial-youtubers-logan-paul-vs-ksi-ii']"
      ]
     },
     "execution_count": 13,
     "metadata": {},
     "output_type": "execute_result"
    }
   ],
   "source": [
    "all_urls = [a['href'] for a in soup.find_all('a', href=True)]\n",
    "campus_urls = [url for url in all_urls if 'https://www.ucvtscampuschronicle.com/single-post/' in url]\n",
    "campus_urls"
   ]
  },
  {
   "cell_type": "code",
   "execution_count": null,
   "metadata": {},
   "outputs": [],
   "source": [
    "authors = {\n",
    "    'akash' : [\n",
    "        \"Akash Dubey\",\n",
    "        \"AIT\"\n",
    "    ]\n",
    "}"
   ]
  },
  {
   "cell_type": "code",
   "execution_count": 72,
   "metadata": {},
   "outputs": [],
   "source": [
    "from datetime import datetime\n",
    "import os\n",
    "from dateutil import parser\n",
    "\n",
    "def parse_datetime(date_string):\n",
    "    try:\n",
    "        parsed_date = parser.parse(date_string)\n",
    "        return parsed_date.strftime(\"%Y-%m-%d\")\n",
    "    except ValueError as e:\n",
    "        print(f\"Failed to parse datetime: {str(e)}\")\n",
    "        try:\n",
    "            return datetime.strptime(date, \"%B %d, %Y\").strftime(\"%Y-%m-%d\")\n",
    "        except ValueError:\n",
    "            return datetime.strptime(date, \"%b %d, %Y\").strftime(\"%Y-%m-%d\")\n",
    "        return None\n",
    "\n",
    "def save_image(url, name):\n",
    "    # Send a request to the image URL\n",
    "    response = requests.get(url)\n",
    "\n",
    "    # Check if the request was successful (status code 200)\n",
    "    if response.status_code == 200:\n",
    "        # Extract the file name from the URL\n",
    "        filename = name + '.' +  os.path.basename(url).split('.')[-1]\n",
    "\n",
    "        # Specify the file path where the image will be saved\n",
    "        filepath = os.path.join(\"assets/images\", filename)\n",
    "\n",
    "        print(f\"Downloading file from {url}\")\n",
    "        print(f\"Saving the file as {filename}\")\n",
    "\n",
    "        # Save the image to the specified file path\n",
    "        with open(filepath, \"wb\") as file:\n",
    "            file.write(response.content)\n",
    "        print(\"Image downloaded and saved successfully.\")\n",
    "        return filepath\n",
    "    \n",
    "    print(\"Failed to download the image. Status code:\", response.status_code)\n",
    "    return None\n",
    "\n",
    "def save_file(url):\n",
    "    response = requests.get(url, headers=headers)\n",
    "\n",
    "    if response.status_code == 200:\n",
    "        soup = BeautifulSoup(response.content, 'html.parser')\n",
    "    else:\n",
    "        print(f\"Failed to fetch URL: {url}\")\n",
    "        return None\n",
    "\n",
    "    article = soup.find(id='content-wrapper')\n",
    "    image_url = article.find_all('img')[0].get('data-pin-media')\n",
    "    title = article.find('h1').text\n",
    "    print(title)\n",
    "    text_list = [a.text for a in article.find_all('p')]\n",
    "\n",
    "    text = '\\n'.join(text_list)\n",
    "    meta_data = [a.text for a in article.find_all('li')]\n",
    "    print(meta_data)\n",
    "    try:\n",
    "        full_name = meta_data[0].split(',')[0]\n",
    "        school = meta_data[0].split(',')[1]\n",
    "    except IndexError:\n",
    "        full_name = meta_data[0]\n",
    "        school = \"Unknown\"\n",
    "    \n",
    "    short_name = full_name.split(' ')[0].lower()\n",
    "    date = meta_data[3]\n",
    "    category = meta_data[-1]\n",
    "\n",
    "    # Convert title to valid filename\n",
    "    short_title = title.lower().replace(\" \", \"-\")\n",
    "\n",
    "    good_file = \"\".join([char for char in short_title if char.isalnum() or char == '-'])\n",
    "\n",
    "    path = save_image(image_url, good_file)\n",
    "\n",
    "    article = f\"\"\"---\n",
    "layout: post\n",
    "title:  \"{title}\"\n",
    "author: {short_name}\n",
    "categories: [ {category} ]\n",
    "image: {path}\n",
    "---\n",
    "\n",
    "{text}\n",
    "\n",
    "\"\"\"\n",
    "\n",
    "    authors[short_name] = [full_name, school]\n",
    "\n",
    "    # Parse the original date\n",
    "    formatted_date = parse_datetime(date)\n",
    "\n",
    "\n",
    "    # Create the file name by using the formatted date and title\n",
    "    file_name = f\"{formatted_date}-{good_file}.md\"\n",
    "    print(article, file=open(f\"_posts/{file_name}\", \"w\", encoding=\"ascii\", errors=\"ignore\"))\n",
    "    return True\n",
    "    "
   ]
  },
  {
   "cell_type": "code",
   "execution_count": 75,
   "metadata": {},
   "outputs": [
    {
     "name": "stdout",
     "output_type": "stream",
     "text": [
      "A Controversial Fight Between Two Controversial Youtubers: Logan Paul vs KSI II\n",
      "['Alan Ostrovsky, AIT', '', 'May 17, 20203 min read', 'May 17, 2020', '', '3 min read', 'Sports']\n",
      "Downloading file from https://static.wixstatic.com/media/057f98_5f16dacf376347aea90f64f80f1d1137~mv2.jpg/v1/fill/w_960,h_689,al_c,q_85/057f98_5f16dacf376347aea90f64f80f1d1137~mv2.jpg\n",
      "Saving the file as a-controversial-fight-between-two-controversial-youtubers-logan-paul-vs-ksi-ii.jpg\n",
      "Image downloaded and saved successfully.\n"
     ]
    },
    {
     "ename": "IndexError",
     "evalue": "list index out of range",
     "output_type": "error",
     "traceback": [
      "\u001b[1;31m---------------------------------------------------------------------------\u001b[0m",
      "\u001b[1;31mIndexError\u001b[0m                                Traceback (most recent call last)",
      "Cell \u001b[1;32mIn[75], line 2\u001b[0m\n\u001b[0;32m      1\u001b[0m \u001b[39mfor\u001b[39;00m result \u001b[39min\u001b[39;00m \u001b[39mreversed\u001b[39m(campus_urls):\n\u001b[1;32m----> 2\u001b[0m     save_file(result)\n\u001b[0;32m      3\u001b[0m authors\n",
      "Cell \u001b[1;32mIn[72], line 51\u001b[0m, in \u001b[0;36msave_file\u001b[1;34m(url)\u001b[0m\n\u001b[0;32m     48\u001b[0m     \u001b[39mreturn\u001b[39;00m \u001b[39mNone\u001b[39;00m\n\u001b[0;32m     50\u001b[0m article \u001b[39m=\u001b[39m soup\u001b[39m.\u001b[39mfind(\u001b[39mid\u001b[39m\u001b[39m=\u001b[39m\u001b[39m'\u001b[39m\u001b[39mcontent-wrapper\u001b[39m\u001b[39m'\u001b[39m)\n\u001b[1;32m---> 51\u001b[0m image_url \u001b[39m=\u001b[39m article\u001b[39m.\u001b[39;49mfind_all(\u001b[39m'\u001b[39;49m\u001b[39mimg\u001b[39;49m\u001b[39m'\u001b[39;49m)[\u001b[39m0\u001b[39;49m]\u001b[39m.\u001b[39mget(\u001b[39m'\u001b[39m\u001b[39mdata-pin-media\u001b[39m\u001b[39m'\u001b[39m)\n\u001b[0;32m     52\u001b[0m title \u001b[39m=\u001b[39m article\u001b[39m.\u001b[39mfind(\u001b[39m'\u001b[39m\u001b[39mh1\u001b[39m\u001b[39m'\u001b[39m)\u001b[39m.\u001b[39mtext\n\u001b[0;32m     53\u001b[0m \u001b[39mprint\u001b[39m(title)\n",
      "\u001b[1;31mIndexError\u001b[0m: list index out of range"
     ]
    }
   ],
   "source": [
    "for result in reversed(campus_urls):\n",
    "    save_file(result)\n",
    "authors"
   ]
  },
  {
   "cell_type": "code",
   "execution_count": 15,
   "metadata": {},
   "outputs": [],
   "source": [
    "url = \"https://www.ucvtscampuschronicle.com/single-post/2020/05/17/english-a-frankenstein-monster-of-a-language-1\"\n",
    "response = requests.get(url, headers=headers)\n",
    "\n",
    "if response.status_code == 200:\n",
    "    soup = BeautifulSoup(response.content, 'html.parser')\n",
    "else:\n",
    "    print(f\"Failed\")"
   ]
  },
  {
   "cell_type": "code",
   "execution_count": 53,
   "metadata": {},
   "outputs": [
    {
     "name": "stdout",
     "output_type": "stream",
     "text": [
      "Downloading file from https://static.wixstatic.com/media/0089f9_e01e6a6db883427ea928ae3d6587f87d~mv2.png/v1/fill/w_960,h_540,al_c,q_90/0089f9_e01e6a6db883427ea928ae3d6587f87d~mv2.png\n",
      "Saving the file as english,-a-frankenstein-monster-of-a-language.png\n",
      "Image downloaded and saved successfully.\n"
     ]
    },
    {
     "data": {
      "text/plain": [
       "True"
      ]
     },
     "execution_count": 53,
     "metadata": {},
     "output_type": "execute_result"
    }
   ],
   "source": [
    "save_file(\"https://www.ucvtscampuschronicle.com/single-post/2020/05/17/english-a-frankenstein-monster-of-a-language-1\")"
   ]
  },
  {
   "cell_type": "code",
   "execution_count": 17,
   "metadata": {},
   "outputs": [
    {
     "data": {
      "text/plain": [
       "<div id=\"content-wrapper\"><div class=\"mbKyhH fsZ7OF mFmpGg blog-post-page-font\" data-hook=\"post-page\"><div class=\"KYa5Ob\"><div></div><div><div><div><div class=\"EcwjNF\"><article class=\"j3D9DG blog-post-page-font blog-card-background-color blog-card-border-color blog-text-color\" data-hook=\"post\" style=\"border-width:0\"><div class=\"OSxNQL\"><div class=\"OFA52E\"><div class=\"IeNfNP\"><ul class=\"xUuoH9 v0bFi9\"><li class=\"F4tRtJ\"><span class=\"\" style=\"pointer-events:none\"><div class=\"lBv2XN blog-text-color blog-link-hover-color avatar blog-post-text-color\"><span class=\"tQ0Q1A user-name dlINDG\" data-hook=\"user-name\" title=\"Joe Baldwin, UCTech\">Joe Baldwin, UCTech</span></div></span></li><li class=\"F4tRtJ\"><div class=\"Ki_0_s rmqd9q blog-separator-background-color\"></div></li><li class=\"F4tRtJ\"><ul class=\"xUuoH9 MBUSKJ\"><li class=\"UZa2Xr\"><span class=\"post-metadata__date time-ago\" data-hook=\"time-ago\" title=\"May 17, 2020\">May 17, 2020</span></li><li class=\"UZa2Xr\"><div class=\"Ki_0_s rmqd9q blog-separator-background-color\"></div></li><li class=\"UZa2Xr\"><span class=\"post-metadata__readTime\" data-hook=\"time-to-read\" title=\"4 min read\">4 min read</span></li></ul></li></ul><div class=\"UPa2xo JDQ812\"><button aria-label=\"More actions\" aria-pressed=\"false\" class=\"u5Zxn8 jG7PL8 _EA3Ke more-button\" data-hook=\"more-button\" id=\"more-button-7c01d4d9-40b7-4950-97fa-9a733f34d041\" type=\"button\"><span class=\"Bvf4SR\"><svg class=\"blog-icon-fill blog-post-homepage-link-hashtag-hover-fill\" role=\"img\" viewbox=\"0 0 19 19\" width=\"19\" xmlns=\"http://www.w3.org/2000/svg\"><path d=\"M2.44398805,5.99973295 C1.62345525,5.9690612 0.980075653,5.28418875 1.00047182,4.46312144 C1.02086799,3.64205413 1.69745853,2.98998831 2.51850166,3.0001164 C3.33954478,3.01024449 3.99985313,3.67880182 4,4.50012255 C3.98424812,5.34399206 3.28763905,6.0153508 2.44398805,5.99973295 L2.44398805,5.99973295 Z M2.44398805,10.9997329 C1.62345525,10.9690612 0.980075653,10.2841888 1.00047182,9.46312144 C1.02086799,8.64205413 1.69745853,7.98998831 2.51850166,8.0001164 C3.33954478,8.01024449 3.99985313,8.67880182 4,9.50012255 C3.98424812,10.3439921 3.28763905,11.0153508 2.44398805,10.9997329 L2.44398805,10.9997329 Z M2.44398805,15.9997329 C1.62345525,15.9690612 0.980075653,15.2841888 1.00047182,14.4631214 C1.02086799,13.6420541 1.69745853,12.9899883 2.51850166,13.0001164 C3.33954478,13.0102445 3.99985313,13.6788018 4,14.5001225 C3.98424812,15.3439921 3.28763905,16.0153508 2.44398805,15.9997329 L2.44398805,15.9997329 Z\"></path></svg></span></button></div></div><div class=\"cD_92h UitnHM\" data-hook=\"post-title\" tabindex=\"-1\"><h1 class=\"UbhFJ7 nkqC0Q blog-post-title-font blog-post-title-color blog-text-color post-title blog-hover-container-element-color FG3qXk blog-post-page-title-font\" data-hook=\"post-title\"><span class=\"post-title__text blog-post-title-font blog-post-title-color\"><span class=\"blog-post-title-font blog-post-title-color\">English, A Frankenstein Monster of a Language</span></span></h1></div></div><div class=\"nLG8d5\" data-hook=\"post-description\"><article class=\"blog-post-page-font\"><div class=\"post-content__body\"><div class=\"moHCnT\"><div class=\"moHCnT\"><div class=\"fTEXDR A2sIZ4 QEEfz0\" data-rce-version=\"9.14.3\" style=\"--rce-text-color:rgb(0, 0, 0);--rce-opaque-background-color:rgb(182, 197, 209);--rce-divider-color:rgba(0, 0, 0, 0.2);--rce-active-divider-color:rgba(0, 0, 0, 0.5);--rce-highlighted-color:rgb(62, 204, 181);--rce-link-hashtag-color:rgb(0, 93, 170);--rce-mobile-font-size:16px;--rce-header-two-font-size:25px;--rce-header-three-font-size:19px;--rce-header-four-font-size:17px;--rce-header-five-font-size:15px;--rce-header-six-font-size:13px;--rce-mobile-header-two-font-size:24px;--rce-mobile-header-three-font-size:20px;--rce-mobile-header-four-font-size:20px;--rce-mobile-header-five-font-size:20px;--rce-mobile-header-six-font-size:20px;--rce-mobile-quotes-font-size:20px\"><style type=\"text/css\">\n",
       "  .post-content__body {\n",
       "    --ricos-text-color: #000000;\n",
       "    --ricos-text-color-tuple: 0, 0, 0;\n",
       "    --ricos-action-color: #3eccb5;\n",
       "    --ricos-action-color-tuple: 62, 204, 181;\n",
       "    --ricos-background-color: #b6c5d1;\n",
       "    --ricos-background-color-tuple: 182, 197, 209;\n",
       "    --ricos-fallback-color: #000000;\n",
       "    --ricos-fallback-color-tuple: 0, 0, 0;\n",
       "    --ricos-action-color-fallback: #000000;\n",
       "    --ricos-action-color-fallback-tuple: 0, 0, 0;\n",
       "        --ricos-custom-h1-font-weight: bold;\n",
       "    --ricos-custom-h1-font-size: 28px;\n",
       "    --ricos-custom-h1-line-height: 1.5;\n",
       "    --ricos-custom-h1-font-family: lulo-clean-w01-one-bold,lulo-clean-w05-one-bold,sans-serif;\n",
       "    --ricos-custom-h1-color: rgba(0,0,0,1);\n",
       "    --ricos-custom-h2-font-weight: bold;\n",
       "    --ricos-custom-h2-font-size: 25px;\n",
       "    --ricos-custom-h2-line-height: 1.5;\n",
       "    --ricos-custom-h2-font-family: lulo-clean-w01-one-bold,lulo-clean-w05-one-bold,sans-serif;\n",
       "    --ricos-custom-h2-color: rgba(0,0,0,1);\n",
       "    --ricos-custom-h3-font-weight: bold;\n",
       "    --ricos-custom-h3-font-size: 19px;\n",
       "    --ricos-custom-h3-line-height: 1.5;\n",
       "    --ricos-custom-h3-font-family: lulo-clean-w01-one-bold,lulo-clean-w05-one-bold,sans-serif;\n",
       "    --ricos-custom-h3-color: rgba(0,0,0,1);\n",
       "    --ricos-custom-h4-font-size: 44px;\n",
       "    --ricos-custom-h4-line-height: 1.5;\n",
       "    --ricos-custom-h4-font-family: playfair display,serif;\n",
       "    --ricos-custom-h4-color: #212121;\n",
       "    --ricos-custom-h5-font-weight: bold;\n",
       "    --ricos-custom-h5-font-size: 36px;\n",
       "    --ricos-custom-h5-line-height: 1.5;\n",
       "    --ricos-custom-h5-font-family: playfair display,serif;\n",
       "    --ricos-custom-h5-color: #212121;\n",
       "    --ricos-custom-h6-font-size: 19px;\n",
       "    --ricos-custom-h6-line-height: 1.5;\n",
       "    --ricos-custom-h6-font-family: avenir-lt-w01_35-light1475496,avenir-lt-w05_35-light,sans-serif;\n",
       "    --ricos-custom-h6-color: #212121;\n",
       "    --ricos-custom-link-line-height: 1.5;\n",
       "    --ricos-custom-link-text-decoration: inherit;\n",
       "    --ricos-custom-link-color: rgba(0,93,170,1);\n",
       "    --ricos-custom-link-font-style: inherit;\n",
       "    --ricos-custom-link-font-weight: inherit;\n",
       "    --ricos-custom-hashtag-line-height: 1.5;\n",
       "    --ricos-custom-hashtag-text-decoration: inherit;\n",
       "    --ricos-custom-hashtag-color: rgba(0,93,170,1);\n",
       "    --ricos-custom-hashtag-font-style: inherit;\n",
       "    --ricos-custom-hashtag-font-weight: inherit;\n",
       "    --ricos-custom-quote-font-size: 24px;\n",
       "    --ricos-custom-quote-line-height: 1.5;\n",
       "    --ricos-custom-quote-font-family: play,sans-serif;\n",
       "    --ricos-custom-quote-color: rgba(0,0,0,1);\n",
       "    --ricos-custom-quote-border-color: rgb(0, 93, 170);\n",
       "    --ricos-custom-p-font-size: 15px;\n",
       "    --ricos-custom-p-line-height: 1.5;\n",
       "    --ricos-custom-p-font-family: tahoma,tahoma-w01-regular,tahoma-w02-regular,tahoma-w10-regular,tahoma-w15--regular,tahoma-w99-regular,sans-serif;\n",
       "    --ricos-custom-p-text-decoration: inherit;\n",
       "    --ricos-custom-p-color: rgba(0,0,0,1);\n",
       "    --ricos-custom-p-font-style: inherit;\n",
       "    --ricos-custom-p-font-weight: inherit;\n",
       "  }\n",
       "</style><div class=\"itVXy dojW8l s6hjqn _8a1b4\" data-id=\"rich-content-viewer\" dir=\"ltr\"><div class=\"mhGZq BAGeNT\"><div data-hook=\"rcv-block-first\" type=\"first\"></div><div class=\"xVISr Y9Dpf bCMSCT OZy-3 lnyWN yMZv8w bCMSCT public-DraftStyleDefault-block-depth0 fixed-tab-size public-DraftStyleDefault-text-ltr\" id=\"viewer-zxabh\"><span class=\"B2EFF public-DraftStyleDefault-ltr\"><span><br role=\"presentation\"/></span></span></div><div data-hook=\"rcv-block1\" type=\"empty-line\"></div><div class=\"QHjDE rzoRKE\" id=\"viewer-z7z95\"><div class=\"gO6aa y8JqQg y8JqQg UAgbc OXFdk4 OXFdk4\"><div class=\"Q6a5A\" data-hook=\"imageViewer\" role=\"button\" tabindex=\"0\"><div aria-label=\"\" class=\"vBPBf L9OMM XHhj0\" id=\"new-image25332697\" style=\"--dim-height:540;--dim-width:960\"><wow-image class=\"gXpdtc\" data-animate-blur=\"\" data-bg-effect-name=\"\" data-has-ssr-src=\"true\" data-image-info='{\"containerId\":\"new-image25332697\",\"displayMode\":\"fill\",\"isLQIP\":true,\"isSEOBot\":false,\"lqipTransition\":\"blur\",\"imageData\":{\"width\":960,\"height\":540,\"uri\":\"0089f9_e01e6a6db883427ea928ae3d6587f87d~mv2.png\",\"name\":\"\",\"displayMode\":\"fill\"}}' id=\"0089f9_e01e6a6db883427ea928ae3d6587f87d~mv2.png\"><img alt=\"\" data-pin-media=\"https://static.wixstatic.com/media/0089f9_e01e6a6db883427ea928ae3d6587f87d~mv2.png/v1/fill/w_960,h_540,al_c,q_90/0089f9_e01e6a6db883427ea928ae3d6587f87d~mv2.png\" data-pin-url=\"https://www.ucvtscampuschronicle.com/single-post/2020/05/17/english-a-frankenstein-monster-of-a-language-1\" src=\"https://static.wixstatic.com/media/0089f9_e01e6a6db883427ea928ae3d6587f87d~mv2.png/v1/fill/w_48,h_27,al_c,q_85,usm_0.66_1.00_0.01,blur_2,enc_auto/0089f9_e01e6a6db883427ea928ae3d6587f87d~mv2.png\" style=\"width:100%;height:100%;object-fit:cover;object-position:50% 50%;max-width:100%\"/></wow-image><div class=\"PiI7v\"><svg class=\"Nh3F1\" viewbox=\"0 0 19 19\" xmlns=\"http://www.w3.org/2000/svg\"><path d=\"M15.071 8.371V4.585l-4.355 4.356a.2.2 0 0 1-.283 0l-.374-.374a.2.2 0 0 1 0-.283l4.356-4.355h-3.786a.2.2 0 0 1-.2-.2V3.2c0-.11.09-.2.2-.2H16v5.371a.2.2 0 0 1-.2.2h-.529a.2.2 0 0 1-.2-.2zm-6.5 6.9v.529a.2.2 0 0 1-.2.2H3v-5.371c0-.11.09-.2.2-.2h.529c.11 0 .2.09.2.2v3.786l4.355-4.356a.2.2 0 0 1 .283 0l.374.374a.2.2 0 0 1 0 .283L4.585 15.07h3.786c.11 0 .2.09.2.2z\" fill=\"#000\" fill-rule=\"nonzero\"></path></svg></div></div><div class=\"\"></div><div class=\"\"></div></div></div></div><div data-hook=\"rcv-block2\" type=\"image\"></div><p class=\"xVISr Y9Dpf bCMSCT OZy-3 lnyWN yMZv8w bCMSCT public-DraftStyleDefault-block-depth0 fixed-tab-size public-DraftStyleDefault-text-ltr\" id=\"viewer-ol6oa\"><span class=\"B2EFF public-DraftStyleDefault-ltr\"><span> </span></span></p><div data-hook=\"rcv-block3\" type=\"paragraph\"></div><p class=\"xVISr Y9Dpf bCMSCT OZy-3 lnyWN yMZv8w bCMSCT public-DraftStyleDefault-block-depth0 fixed-tab-size public-DraftStyleDefault-text-ltr\" id=\"viewer-5ruyr\"><span class=\"B2EFF public-DraftStyleDefault-ltr\"><span>English is a weird language. Any student who has had to memorize strange spelling anomalies or had to read aloud in class only to trip over a word with two different meanings and entirely different pronunciations can attest to this. For example, though they masquerade as the same word, lead (as in leader) and lead (as in the element) sound different when spoken. Taken to the extreme, sentences like “Buffalo buffalo Buffalo buffalo buffalo buffalo Buffalo buffalo” make complete grammatical sense. And, perhaps, consider that English is one of the only European languages in which nouns are not assigned gender. </span></span></p><div data-hook=\"rcv-block4\" type=\"paragraph\"></div><p class=\"xVISr Y9Dpf bCMSCT OZy-3 lnyWN yMZv8w bCMSCT public-DraftStyleDefault-block-depth0 fixed-tab-size public-DraftStyleDefault-text-ltr\" id=\"viewer-5l344\"><span class=\"B2EFF public-DraftStyleDefault-ltr\"><span> </span></span></p><div data-hook=\"rcv-block5\" type=\"paragraph\"></div><p class=\"xVISr Y9Dpf bCMSCT OZy-3 lnyWN yMZv8w bCMSCT public-DraftStyleDefault-block-depth0 fixed-tab-size public-DraftStyleDefault-text-ltr\" id=\"viewer-eusyx\"><span class=\"B2EFF public-DraftStyleDefault-ltr\"><span>There is a reason for these idiosyncrasies, though. The short answer is that English is a mutt of a language cobbled together from no less than four other languages. The long answer, however, requires a bit of history.</span></span></p><div data-hook=\"rcv-block6\" type=\"paragraph\"></div><p class=\"xVISr Y9Dpf bCMSCT OZy-3 lnyWN yMZv8w bCMSCT public-DraftStyleDefault-block-depth0 fixed-tab-size public-DraftStyleDefault-text-ltr\" id=\"viewer-gzmby\"><span class=\"B2EFF public-DraftStyleDefault-ltr\"><span> </span></span></p><div data-hook=\"rcv-block7\" type=\"paragraph\"></div><p class=\"xVISr Y9Dpf bCMSCT OZy-3 lnyWN yMZv8w bCMSCT public-DraftStyleDefault-block-depth0 fixed-tab-size public-DraftStyleDefault-text-ltr\" id=\"viewer-79rwe\"><span class=\"B2EFF public-DraftStyleDefault-ltr\"><span>First off, if you have ever been in a science class, then you are probably familiar with words like photosynthesis or Yttrium. You may already know that both words have Latin roots, but what you may not be aware of is how English acquired these words. Back in ye olden days when the Romans ruled England, they brought their customs with them. You might guess that this includes their language, but that is not entirely true. Latin never really took off in England. What did, however, was Christianity, which hung around England long after the Romans left. Christianity is important, because back in ye olden days, Latin was the language of the Church. And since in the Medieval era, authors tended to be from the Church, Latin became an integral part of literature. Not only were the clergy writing books, but being the most educated people of the day, these men would go on to study science (or what counted as science at the time). Likewise, clergymen became architects, mathematicians, teachers, etc. So when these men wrote down their notes or lessons or instructions, it was in Latin. In the centuries following, men of science would study the notes of their predecessors, and to keep things consistent, they adopted Latin when naming things. This is where English gets words like <em>herbivore, agriculture, aqueducts, multiply,</em> etc.</span></span></p><div data-hook=\"rcv-block8\" type=\"paragraph\"></div><p class=\"xVISr Y9Dpf bCMSCT OZy-3 lnyWN yMZv8w bCMSCT public-DraftStyleDefault-block-depth0 fixed-tab-size public-DraftStyleDefault-text-ltr\" id=\"viewer-pxdko\"><span class=\"B2EFF public-DraftStyleDefault-ltr\"><span> </span></span></p><div data-hook=\"rcv-block9\" type=\"paragraph\"></div><p class=\"xVISr Y9Dpf bCMSCT OZy-3 lnyWN yMZv8w bCMSCT public-DraftStyleDefault-block-depth0 fixed-tab-size public-DraftStyleDefault-text-ltr\" id=\"viewer-lk9kp\"><span class=\"B2EFF public-DraftStyleDefault-ltr\"><span>Roman rule didn’t last forever in Britain. In the early 400s C.E., Romans left the island forever, allowing other peoples to conquer it. Enter Jutes, Saxons, and Angles, who crossed the channel at some point in the 500s and quickly conquered the island of Britain. These peoples settled the land, married each other, and created a new culture called Anglo-Saxon. Their languages fused together into what we call Old-English. They didn’t say they spoke Old-English; rather they spoke Anglish (referring to their homeland “of the Angles”). And where did these people speak Anglish? In Angleland of course, where they drank <em>beer </em>with their <em>friends</em> in their<em> homes,</em> after a <em>hearty welcome</em>. On <em>Wednesday,</em> <em>Thursday,</em> or <em>Friday,</em> an Anglo-Saxon would take care of his <em>cows, sheep,</em> and <em>swines </em>in the <em>barn</em>. All of these new words would become mainstays of the English language.</span></span></p><div data-hook=\"rcv-block10\" type=\"paragraph\"></div><p class=\"xVISr Y9Dpf bCMSCT OZy-3 lnyWN yMZv8w bCMSCT public-DraftStyleDefault-block-depth0 fixed-tab-size public-DraftStyleDefault-text-ltr\" id=\"viewer-u6pxv\"><span class=\"B2EFF public-DraftStyleDefault-ltr\"><span> </span></span></p><div data-hook=\"rcv-block11\" type=\"paragraph\"></div><p class=\"xVISr Y9Dpf bCMSCT OZy-3 lnyWN yMZv8w bCMSCT public-DraftStyleDefault-block-depth0 fixed-tab-size public-DraftStyleDefault-text-ltr\" id=\"viewer-683pp\"><span class=\"B2EFF public-DraftStyleDefault-ltr\"><span>But that would not be the last time a conquering people would forever change English. In the late 700s C.E., a new group of people came to stay--Vikings. Much like the Anglo-Saxons, Vikings conquered areas of England and brought their culture with them. Of course, this includes their favorite pastimes. You know: <em>slaughtering people</em> by putting their <em>axes</em> in their victims’ <em>skulls</em>, outside of cottage <em>windows.</em> These words may sound <em>ugly,</em> but remember, the Vikings were a people of <em>give</em> and <em>take</em>, and at least they were<em> happy </em>with their <em>husbands </em>and <em>sisters.</em> With new people come new words that join the ranks of English vocabulary.</span></span></p><div data-hook=\"rcv-block12\" type=\"paragraph\"></div><p class=\"xVISr Y9Dpf bCMSCT OZy-3 lnyWN yMZv8w bCMSCT public-DraftStyleDefault-block-depth0 fixed-tab-size public-DraftStyleDefault-text-ltr\" id=\"viewer-ug6sf\"><span class=\"B2EFF public-DraftStyleDefault-ltr\"><span> </span></span></p><div data-hook=\"rcv-block13\" type=\"paragraph\"></div><p class=\"xVISr Y9Dpf bCMSCT OZy-3 lnyWN yMZv8w bCMSCT public-DraftStyleDefault-block-depth0 fixed-tab-size public-DraftStyleDefault-text-ltr\" id=\"viewer-5tlap\"><span class=\"B2EFF public-DraftStyleDefault-ltr\"><span>Lastly, in 1066, the Normans under William the Conqueror (well, you can guess) conquered England. You can probably predict what happens next. Except this time, it is a little different. William had just taken over a large kingdom and he needed people to run it. William didn’t trust the local Anglo-Saxons as he had just conquered them, so he brought over his own countrymen from across the English Channel and made them his new nobles. Thus, the language of royalty and nobility was not Old-English. Old-English was for the peasants and dirty workers. No, these Frenchmen would <em>govern </em>the lower classes as their <em>sovereigns. </em>The nobles would<em> judge</em> them with <em>evidence,</em> so that <em>justice </em>could be delivered. The Normans would not talk in their homes like farmers. They would <em>parle</em> in their <em>castles</em> and would invite their fellow gentry to a <em>cordial reception</em>. And if it wasn’t a bother, Norman guests would <em>respond </em>if they wanted <em>beef </em>or<em> pork </em>as the <em>entree.</em> When it came to <em>government,</em> the nobles formed <em>councils </em>and held<em> parliament </em>to discuss <em>policies.</em></span></span></p><div data-hook=\"rcv-block14\" type=\"paragraph\"></div><p class=\"xVISr Y9Dpf bCMSCT OZy-3 lnyWN yMZv8w bCMSCT public-DraftStyleDefault-block-depth0 fixed-tab-size public-DraftStyleDefault-text-ltr\" id=\"viewer-jh4bu\"><span class=\"B2EFF public-DraftStyleDefault-ltr\"><span> </span></span></p><div data-hook=\"rcv-block15\" type=\"paragraph\"></div><p class=\"xVISr Y9Dpf bCMSCT OZy-3 lnyWN yMZv8w bCMSCT public-DraftStyleDefault-block-depth0 fixed-tab-size public-DraftStyleDefault-text-ltr\" id=\"viewer-io48o\"><span class=\"B2EFF public-DraftStyleDefault-ltr\"><span>After a few centuries, the languages of French, Old-English, Old-Norse, and Latin blended together into the language that we today call English. It should be noted that the italicized words are included above in contemporary spelling, which might not be the same as it was centuries ago. For example, while the word <em>home</em> comes from Anglo-Saxon origins, it would have been pronounced <em>ham.</em> As time went on, vowels changed and so did their spelling. A’s became O’s, and some vowels could be pronounced two different ways. So next time you fail a spelling bee or a English quiz be sure to blame the Normans, or the Vikings, or the Germans… or the Romans.</span></span></p><div data-hook=\"rcv-block16\" type=\"paragraph\"></div><p class=\"xVISr Y9Dpf bCMSCT OZy-3 lnyWN yMZv8w bCMSCT public-DraftStyleDefault-block-depth0 fixed-tab-size public-DraftStyleDefault-text-ltr\" id=\"viewer-7kd7b\"><span class=\"B2EFF public-DraftStyleDefault-ltr\"><span> </span></span></p><div data-hook=\"rcv-block17\" type=\"paragraph\"></div><p class=\"xVISr Y9Dpf bCMSCT OZy-3 cDpYU ok2w4y bCMSCT public-DraftStyleDefault-block-depth0 fixed-tab-size public-DraftStyleDefault-text-ltr\" id=\"viewer-02t0s\"><span class=\"B2EFF public-DraftStyleDefault-ltr\"><span><strong>Works Cited </strong></span></span></p><div data-hook=\"rcv-block18\" type=\"paragraph\"></div><p class=\"xVISr Y9Dpf bCMSCT OZy-3 lnyWN yMZv8w bCMSCT public-DraftStyleDefault-block-depth0 fixed-tab-size public-DraftStyleDefault-text-ltr\" id=\"viewer-16lk0\"><span class=\"B2EFF public-DraftStyleDefault-ltr\"><span>Bowern, Claire. “Where Did English Come from? - Claire Bowern.” Youtube, TED-Ed, 16 July 2015, https://www.youtube.com/watch?v=YEaSxhcns7Y. </span></span></p><div data-hook=\"rcv-block19\" type=\"paragraph\"></div><p class=\"xVISr Y9Dpf bCMSCT OZy-3 lnyWN yMZv8w bCMSCT public-DraftStyleDefault-block-depth0 fixed-tab-size public-DraftStyleDefault-text-ltr\" id=\"viewer-4fo0h\"><span class=\"B2EFF public-DraftStyleDefault-ltr\"><span> </span></span></p><div data-hook=\"rcv-block20\" type=\"paragraph\"></div><p class=\"xVISr Y9Dpf bCMSCT OZy-3 lnyWN yMZv8w bCMSCT public-DraftStyleDefault-block-depth0 fixed-tab-size public-DraftStyleDefault-text-ltr\" id=\"viewer-20bsr\"><span class=\"B2EFF public-DraftStyleDefault-ltr\"><span>Gardoqui, Kate. “How Did English Evolve? - Kate Gardoqui.” Youtube, TED-Ed, 27 Nov. 2012, https://www.youtube.com/watch?v=kIzFz9T5rhI. </span></span></p><div data-hook=\"rcv-block21\" type=\"paragraph\"></div><p class=\"xVISr Y9Dpf bCMSCT OZy-3 lnyWN yMZv8w bCMSCT public-DraftStyleDefault-block-depth0 fixed-tab-size public-DraftStyleDefault-text-ltr\" id=\"viewer-44j7j\"><span class=\"B2EFF public-DraftStyleDefault-ltr\"><span> </span></span></p><div data-hook=\"rcv-block22\" type=\"paragraph\"></div><p class=\"xVISr Y9Dpf bCMSCT OZy-3 lnyWN yMZv8w bCMSCT public-DraftStyleDefault-block-depth0 fixed-tab-size public-DraftStyleDefault-text-ltr\" id=\"viewer-dc5vr\"><span class=\"B2EFF public-DraftStyleDefault-ltr\"><span>“History of English (Combined).” Youtube, OpenLearn from The Open University, 8 Nov. 2011, https://www.youtube.com/watch?v=H3r9bOkYW9s. </span></span></p><div data-hook=\"rcv-block23\" type=\"paragraph\"></div><p class=\"xVISr Y9Dpf bCMSCT OZy-3 lnyWN yMZv8w bCMSCT public-DraftStyleDefault-block-depth0 fixed-tab-size public-DraftStyleDefault-text-ltr\" id=\"viewer-kuvxz\"><span class=\"B2EFF public-DraftStyleDefault-ltr\"><span> </span></span></p><div data-hook=\"rcv-block24\" type=\"paragraph\"></div><p class=\"xVISr Y9Dpf bCMSCT OZy-3 lnyWN yMZv8w bCMSCT public-DraftStyleDefault-block-depth0 fixed-tab-size public-DraftStyleDefault-text-ltr\" id=\"viewer-kkwxw\"><span class=\"B2EFF public-DraftStyleDefault-ltr\"><span>McAlpine, Fraser. “10 Words We Got from the Vikings.” BBC America, 1 Jan. 1966, http://www.bbcamerica.com/anglophenia/2015/10/10-words-we-got-from-the-vikings. </span></span></p><div data-hook=\"rcv-block25\" type=\"paragraph\"></div><p class=\"xVISr Y9Dpf bCMSCT OZy-3 lnyWN yMZv8w bCMSCT public-DraftStyleDefault-block-depth0 fixed-tab-size public-DraftStyleDefault-text-ltr\" id=\"viewer-ylw4k\"><span class=\"B2EFF public-DraftStyleDefault-ltr\"><span> </span></span></p><div data-hook=\"rcv-block26\" type=\"paragraph\"></div><p class=\"xVISr Y9Dpf bCMSCT OZy-3 lnyWN yMZv8w bCMSCT public-DraftStyleDefault-block-depth0 fixed-tab-size public-DraftStyleDefault-text-ltr\" id=\"viewer-e6kdt\"><span class=\"B2EFF public-DraftStyleDefault-ltr\"><span>McWhorter, John. “English Is Not Normal.” Aeon, Aeon, 13 Nov. 2015, https://aeon.co/essays/why-is-english-so-weirdly-different-from-other-languages. </span></span></p><div data-hook=\"rcv-block27\" type=\"paragraph\"></div><p class=\"xVISr Y9Dpf bCMSCT OZy-3 lnyWN yMZv8w bCMSCT public-DraftStyleDefault-block-depth0 fixed-tab-size public-DraftStyleDefault-text-ltr\" id=\"viewer-bh943\"><span class=\"B2EFF public-DraftStyleDefault-ltr\"><span> </span></span></p><div data-hook=\"rcv-block28\" type=\"paragraph\"></div><p class=\"xVISr Y9Dpf bCMSCT OZy-3 lnyWN yMZv8w bCMSCT public-DraftStyleDefault-block-depth0 fixed-tab-size public-DraftStyleDefault-text-ltr\" id=\"viewer-m75ht\"><span class=\"B2EFF public-DraftStyleDefault-ltr\"><span>Northbrook, Julian. “Where Does the Word ‘English’ Come from?” Doing English, 25 May 2019, https://doingenglish.com/blog/where-does-the-word-english-come-from/. </span></span></p><div data-hook=\"rcv-block29\" type=\"paragraph\"></div><p class=\"xVISr Y9Dpf bCMSCT OZy-3 lnyWN yMZv8w bCMSCT public-DraftStyleDefault-block-depth0 fixed-tab-size public-DraftStyleDefault-text-ltr\" id=\"viewer-4xr5v\"><span class=\"B2EFF public-DraftStyleDefault-ltr\"><span> </span></span></p><div data-hook=\"rcv-block30\" type=\"paragraph\"></div><p class=\"xVISr Y9Dpf bCMSCT OZy-3 lnyWN yMZv8w bCMSCT public-DraftStyleDefault-block-depth0 fixed-tab-size public-DraftStyleDefault-text-ltr\" id=\"viewer-04jg2\"><span class=\"B2EFF public-DraftStyleDefault-ltr\"><span>“The War That Changed the English Language - Mini-Wars #3.” Youtube, Oversimplified, 24 May 2018, https://www.youtube.com/watch?v=Jl3K63Rbygw. </span></span></p><div data-hook=\"rcv-block31\" type=\"paragraph\"></div><p class=\"xVISr Y9Dpf bCMSCT OZy-3 lnyWN yMZv8w bCMSCT public-DraftStyleDefault-block-depth0 fixed-tab-size public-DraftStyleDefault-text-ltr\" id=\"viewer-zt9f3\"><span class=\"B2EFF public-DraftStyleDefault-ltr\"><span> </span></span></p><div data-hook=\"rcv-block32\" type=\"paragraph\"></div><div class=\"xVISr Y9Dpf bCMSCT OZy-3 lnyWN yMZv8w bCMSCT public-DraftStyleDefault-block-depth0 fixed-tab-size public-DraftStyleDefault-text-ltr\" id=\"viewer-yticw\"><span class=\"B2EFF public-DraftStyleDefault-ltr\"><span><br role=\"presentation\"/></span></span></div><div data-hook=\"rcv-block33\" type=\"empty-line\"></div><div data-hook=\"rcv-block-last\" type=\"last\"></div></div></div></div></div></div></div></article></div><div class=\"OFA52E jG7PL8\" id=\"post-footer\"><div class=\"ux83lW\" data-hook=\"post-main-actions-desktop\"><div class=\"tmHsxH blog-separator-background-color\"></div><div class=\"bVF0DD lnKYSq\"><div class=\"ynI4j0 blog-text-color\" id=\"post-social-actions_7c01d4d9-40b7-4950-97fa-9a733f34d041\" tabindex=\"-1\"><button aria-label=\"Share via link\" class=\"U4UjyH\" data-hook=\"share-button__link\"><svg class=\"cXULmD blog-icon-fill blog-button-hover-fill\" height=\"19\" role=\"img\" viewbox=\"0 0 19 19\" width=\"19\" xmlns=\"http://www.w3.org/2000/svg\"><path d=\"M10.6000004,11.7622375 L14.2108923,11.7622375 C15.4561791,11.7622375 16.4656836,10.7527331 16.4656836,9.50744629 L16.4656836,9.50744629 L16.4656836,9.50744629 C16.4656836,8.26215946 15.4561791,7.25265503 14.2108923,7.25265503 L10.6000004,7.25265503 L10.6000004,5.84470702 L10.6000004,5.84470702 C10.6000004,5.73425007 10.6895434,5.64470702 10.8000004,5.64470702 L14.3209766,5.64470702 C16.4501961,5.64470702 18.1762695,7.37078048 18.1762695,9.5 C18.1762695,11.6292195 16.4501961,13.355293 14.3209766,13.355293 L10.8000004,13.355293 L10.8000004,13.355293 C10.6895434,13.355293 10.6000004,13.2657499 10.6000004,13.155293 L10.6000004,11.7622375 Z M8.39999962,7.25265503 L4.82047474,7.25265503 C3.57518792,7.25265503 2.56568348,8.26215946 2.56568348,9.50744629 L2.56568348,9.50744629 L2.56568348,9.50744629 C2.56568348,10.7527331 3.57518792,11.7622375 4.82047474,11.7622375 L8.39999962,11.7622375 L8.39999962,13.1578418 C8.39999962,13.2682987 8.31045657,13.3578418 8.19999962,13.3578418 L4.60784179,13.3578418 C2.4772146,13.3578418 0.75,11.6306272 0.75,9.5 C0.75,7.36937281 2.4772146,5.64215821 4.60784179,5.64215821 L8.19999962,5.64215821 L8.19999962,5.64215821 C8.31045657,5.64215821 8.39999962,5.73170126 8.39999962,5.84215821 L8.39999962,7.25265503 Z M6.66568358,8.69999981 L12.2656836,8.69999981 C12.3761405,8.69999981 12.4656836,8.78954286 12.4656836,8.89999981 L12.4656836,10.1499998 C12.4656836,10.2604567 12.3761405,10.3499998 12.2656836,10.3499998 L6.66568358,10.3499998 C6.55522663,10.3499998 6.46568358,10.2604567 6.46568358,10.1499998 L6.46568358,8.89999981 C6.46568358,8.78954286 6.55522663,8.69999981 6.66568358,8.69999981 Z\" transform=\"rotate(-45 9.463 9.5)\"></path></svg><span class=\"NHVyAh\"></span></button></div><ul class=\"lXjgWq\"><li class=\"TZ6_II\"><a class=\"blog-link-hover-color blog-text-color post-categories-list__link has-custom-focus s6R7Q6\" data-hook=\"category-label-list__item\" href=\"https://www.ucvtscampuschronicle.com/november-edition/categories/news\">News</a></li></ul></div><div class=\"tmHsxH blog-separator-background-color\"></div><div class=\"bVF0DD xIs1Bi\" data-hook=\"post-main-actions__stats\"><div class=\"asGom3\" data-hook=\"post-stats\"><span tabindex=\"0\">406 views</span></div><button class=\"Kh5HMz\"><span aria-live=\"off\" class=\"laz8E8\">1 like. Post not marked as liked</span><span class=\"h7K_lu\" data-hook=\"like-button-with-count__like-count\"><span aria-hidden=\"true\" class=\"FYRNvd like-button-with-count__like-count\">1</span><div class=\"like-button LtaU1R\" data-hook=\"like-button\"><div class=\"TlM_il\"><div class=\"IiFRN3\"></div></div><div class=\"h1CBon\"><div class=\"IiFRN3\"></div></div><div class=\"ab2Jus\"><div class=\"IiFRN3\"></div></div><div class=\"GKdqLq\"><div class=\"IiFRN3\"></div></div><div class=\"_zh4Km\"></div><svg role=\"img\" viewbox=\"0 0 19 19\" width=\"19\" xmlns=\"http://www.w3.org/2000/svg\"><path d=\"M9.44985848,15.5291774 C9.43911371,15.5362849 9.42782916,15.5449227 9.41715267,15.5553324 L9.44985848,15.5291774 Z M9.44985848,15.5291774 L9.49370677,15.4941118 C9.15422701,15.7147757 10.2318883,15.0314406 10.7297038,14.6971183 C11.5633567,14.1372547 12.3827081,13.5410755 13.1475707,12.9201001 C14.3829188,11.9171478 15.3570936,10.9445466 15.9707237,10.0482572 C16.0768097,9.89330422 16.1713564,9.74160032 16.2509104,9.59910798 C17.0201658,8.17755699 17.2088969,6.78363112 16.7499013,5.65913129 C16.4604017,4.81092573 15.7231445,4.11008901 14.7401472,3.70936139 C13.1379564,3.11266008 11.0475663,3.84092251 9.89976068,5.36430396 L9.50799408,5.8842613 L9.10670536,5.37161711 C7.94954806,3.89335486 6.00516066,3.14638251 4.31830373,3.71958508 C3.36517186,4.00646284 2.65439601,4.72068063 2.23964629,5.77358234 C1.79050315,6.87166888 1.98214559,8.26476279 2.74015555,9.58185512 C2.94777753,9.93163559 3.23221417,10.3090129 3.5869453,10.7089994 C4.17752179,11.3749196 4.94653811,12.0862394 5.85617417,12.8273544 C7.11233096,13.8507929 9.65858244,15.6292133 9.58280954,15.555334 C9.53938013,15.5129899 9.48608859,15.5 9.50042471,15.5 C9.5105974,15.5 9.48275828,15.5074148 9.44985848,15.5291774 Z\"></path></svg></div></span></button></div></div></div></div></article></div></div></div></div></div></div></div>"
      ]
     },
     "execution_count": 17,
     "metadata": {},
     "output_type": "execute_result"
    }
   ],
   "source": [
    "article = soup.find(id='content-wrapper')\n",
    "article"
   ]
  },
  {
   "cell_type": "code",
   "execution_count": 18,
   "metadata": {},
   "outputs": [
    {
     "data": {
      "text/plain": [
       "'Joe Baldwin, UCTechMay 17, 20204 min readEnglish, A Frankenstein Monster of a Language English is a weird language. Any student who has had to memorize strange spelling anomalies or had to read aloud in class only to trip over a word with two different meanings and entirely different pronunciations can attest to this. For example, though they masquerade as the same word, lead (as in leader) and lead (as in the element) sound different when spoken. Taken to the extreme, sentences like “Buffalo buffalo Buffalo buffalo buffalo buffalo Buffalo buffalo” make complete grammatical sense. And, perhaps, consider that English is one of the only European languages in which nouns are not assigned gender.  There is a reason for these idiosyncrasies, though. The short answer is that English is a mutt of a language cobbled together from no less than four other languages. The long answer, however, requires a bit of history. First off, if you have ever been in a science class, then you are probably familiar with words like photosynthesis or Yttrium. You may already know that both words have Latin roots, but what you may not be aware of is how English acquired these words. Back in ye olden days when the Romans ruled England, they brought their customs with them. You might guess that this includes their language, but that is not entirely true. Latin never really took off in England. What did, however, was Christianity, which hung around England long after the Romans left. Christianity is important, because back in ye olden days, Latin was the language of the Church. And since in the Medieval era, authors tended to be from the Church, Latin became an integral part of literature. Not only were the clergy writing books, but being the most educated people of the day, these men would go on to study science (or what counted as science at the time). Likewise, clergymen became architects, mathematicians, teachers, etc. So when these men wrote down their notes or lessons or instructions, it was in Latin. In the centuries following, men of science would study the notes of their predecessors, and to keep things consistent, they adopted Latin when naming things. This is where English gets words like herbivore, agriculture, aqueducts, multiply, etc. Roman rule didn’t last forever in Britain. In the early 400s C.E., Romans left the island forever, allowing other peoples to conquer it. Enter Jutes, Saxons, and Angles, who crossed the channel at some point in the 500s and quickly conquered the island of Britain. These peoples settled the land, married each other, and created a new culture called Anglo-Saxon. Their languages fused together into what we call Old-English. They didn’t say they spoke Old-English; rather they spoke Anglish (referring to their homeland “of the Angles”). And where did these people speak Anglish? In Angleland of course, where they drank beer with their friends in their homes, after a hearty welcome. On Wednesday, Thursday, or Friday, an Anglo-Saxon would take care of his cows, sheep, and swines in the barn. All of these new words would become mainstays of the English language. But that would not be the last time a conquering people would forever change English. In the late 700s C.E., a new group of people came to stay--Vikings. Much like the Anglo-Saxons, Vikings conquered areas of England and brought their culture with them. Of course, this includes their favorite pastimes. You know: slaughtering people by putting their axes in their victims’ skulls, outside of cottage windows. These words may sound ugly, but remember, the Vikings were a people of give and take, and at least they were happy with their husbands and sisters. With new people come new words that join the ranks of English vocabulary. Lastly, in 1066, the Normans under William the Conqueror (well, you can guess) conquered England. You can probably predict what happens next. Except this time, it is a little different. William had just taken over a large kingdom and he needed people to run it. William didn’t trust the local Anglo-Saxons as he had just conquered them, so he brought over his own countrymen from across the English Channel and made them his new nobles. Thus, the language of royalty and nobility was not Old-English. Old-English was for the peasants and dirty workers. No, these Frenchmen would govern the lower classes as their sovereigns. The nobles would judge them with evidence, so that justice could be delivered. The Normans would not talk in their homes like farmers. They would parle in their castles and would invite their fellow gentry to a cordial reception. And if it wasn’t a bother, Norman guests would respond if they wanted beef or pork as the entree. When it came to government, the nobles formed councils and held parliament to discuss policies. After a few centuries, the languages of French, Old-English, Old-Norse, and Latin blended together into the language that we today call English. It should be noted that the italicized words are included above in contemporary spelling, which might not be the same as it was centuries ago. For example, while the word home comes from Anglo-Saxon origins, it would have been pronounced ham. As time went on, vowels changed and so did their spelling. A’s became O’s, and some vowels could be pronounced two different ways. So next time you fail a spelling bee or a English quiz be sure to blame the Normans, or the Vikings, or the Germans… or the Romans. Works Cited Bowern, Claire. “Where Did English Come from? - Claire Bowern.” Youtube, TED-Ed, 16 July 2015, https://www.youtube.com/watch?v=YEaSxhcns7Y.  Gardoqui, Kate. “How Did English Evolve? - Kate Gardoqui.” Youtube, TED-Ed, 27 Nov. 2012, https://www.youtube.com/watch?v=kIzFz9T5rhI.  “History of English (Combined).” Youtube, OpenLearn from The Open University, 8 Nov. 2011, https://www.youtube.com/watch?v=H3r9bOkYW9s.  McAlpine, Fraser. “10 Words We Got from the Vikings.” BBC America, 1 Jan. 1966, http://www.bbcamerica.com/anglophenia/2015/10/10-words-we-got-from-the-vikings.  McWhorter, John. “English Is Not Normal.” Aeon, Aeon, 13 Nov. 2015, https://aeon.co/essays/why-is-english-so-weirdly-different-from-other-languages.  Northbrook, Julian. “Where Does the Word ‘English’ Come from?” Doing English, 25 May 2019, https://doingenglish.com/blog/where-does-the-word-english-come-from/.  “The War That Changed the English Language - Mini-Wars #3.” Youtube, Oversimplified, 24 May 2018, https://www.youtube.com/watch?v=Jl3K63Rbygw.  News406 views1 like. Post not marked as liked1'"
      ]
     },
     "execution_count": 18,
     "metadata": {},
     "output_type": "execute_result"
    }
   ],
   "source": [
    "article.text"
   ]
  },
  {
   "cell_type": "code",
   "execution_count": 24,
   "metadata": {},
   "outputs": [
    {
     "data": {
      "text/plain": [
       "'https://static.wixstatic.com/media/0089f9_e01e6a6db883427ea928ae3d6587f87d~mv2.png/v1/fill/w_960,h_540,al_c,q_90/0089f9_e01e6a6db883427ea928ae3d6587f87d~mv2.png'"
      ]
     },
     "execution_count": 24,
     "metadata": {},
     "output_type": "execute_result"
    }
   ],
   "source": [
    "image_url = article.find_all('img')[0].get('data-pin-media')"
   ]
  },
  {
   "cell_type": "code",
   "execution_count": 25,
   "metadata": {},
   "outputs": [
    {
     "data": {
      "text/plain": [
       "'English, A Frankenstein Monster of a Language'"
      ]
     },
     "execution_count": 25,
     "metadata": {},
     "output_type": "execute_result"
    }
   ],
   "source": [
    "title = article.find('h1').text\n",
    "title"
   ]
  },
  {
   "cell_type": "code",
   "execution_count": 30,
   "metadata": {},
   "outputs": [
    {
     "data": {
      "text/plain": [
       "' \\nEnglish is a weird language. Any student who has had to memorize strange spelling anomalies or had to read aloud in class only to trip over a word with two different meanings and entirely different pronunciations can attest to this. For example, though they masquerade as the same word, lead (as in leader) and lead (as in the element) sound different when spoken. Taken to the extreme, sentences like “Buffalo buffalo Buffalo buffalo buffalo buffalo Buffalo buffalo” make complete grammatical sense. And, perhaps, consider that English is one of the only European languages in which nouns are not assigned gender. \\n \\nThere is a reason for these idiosyncrasies, though. The short answer is that English is a mutt of a language cobbled together from no less than four other languages. The long answer, however, requires a bit of history.\\n \\nFirst off, if you have ever been in a science class, then you are probably familiar with words like photosynthesis or Yttrium. You may already know that both words have Latin roots, but what you may not be aware of is how English acquired these words. Back in ye olden days when the Romans ruled England, they brought their customs with them. You might guess that this includes their language, but that is not entirely true. Latin never really took off in England. What did, however, was Christianity, which hung around England long after the Romans left. Christianity is important, because back in ye olden days, Latin was the language of the Church. And since in the Medieval era, authors tended to be from the Church, Latin became an integral part of literature. Not only were the clergy writing books, but being the most educated people of the day, these men would go on to study science (or what counted as science at the time). Likewise, clergymen became architects, mathematicians, teachers, etc. So when these men wrote down their notes or lessons or instructions, it was in Latin. In the centuries following, men of science would study the notes of their predecessors, and to keep things consistent, they adopted Latin when naming things. This is where English gets words like herbivore, agriculture, aqueducts, multiply, etc.\\n \\nRoman rule didn’t last forever in Britain. In the early 400s C.E., Romans left the island forever, allowing other peoples to conquer it. Enter Jutes, Saxons, and Angles, who crossed the channel at some point in the 500s and quickly conquered the island of Britain. These peoples settled the land, married each other, and created a new culture called Anglo-Saxon. Their languages fused together into what we call Old-English. They didn’t say they spoke Old-English; rather they spoke Anglish (referring to their homeland “of the Angles”). And where did these people speak Anglish? In Angleland of course, where they drank beer with their friends in their homes, after a hearty welcome. On Wednesday, Thursday, or Friday, an Anglo-Saxon would take care of his cows, sheep, and swines in the barn. All of these new words would become mainstays of the English language.\\n \\nBut that would not be the last time a conquering people would forever change English. In the late 700s C.E., a new group of people came to stay--Vikings. Much like the Anglo-Saxons, Vikings conquered areas of England and brought their culture with them. Of course, this includes their favorite pastimes. You know: slaughtering people by putting their axes in their victims’ skulls, outside of cottage windows. These words may sound ugly, but remember, the Vikings were a people of give and take, and at least they were happy with their husbands and sisters. With new people come new words that join the ranks of English vocabulary.\\n \\nLastly, in 1066, the Normans under William the Conqueror (well, you can guess) conquered England. You can probably predict what happens next. Except this time, it is a little different. William had just taken over a large kingdom and he needed people to run it. William didn’t trust the local Anglo-Saxons as he had just conquered them, so he brought over his own countrymen from across the English Channel and made them his new nobles. Thus, the language of royalty and nobility was not Old-English. Old-English was for the peasants and dirty workers. No, these Frenchmen would govern the lower classes as their sovereigns. The nobles would judge them with evidence, so that justice could be delivered. The Normans would not talk in their homes like farmers. They would parle in their castles and would invite their fellow gentry to a cordial reception. And if it wasn’t a bother, Norman guests would respond if they wanted beef or pork as the entree. When it came to government, the nobles formed councils and held parliament to discuss policies.\\n \\nAfter a few centuries, the languages of French, Old-English, Old-Norse, and Latin blended together into the language that we today call English. It should be noted that the italicized words are included above in contemporary spelling, which might not be the same as it was centuries ago. For example, while the word home comes from Anglo-Saxon origins, it would have been pronounced ham. As time went on, vowels changed and so did their spelling. A’s became O’s, and some vowels could be pronounced two different ways. So next time you fail a spelling bee or a English quiz be sure to blame the Normans, or the Vikings, or the Germans… or the Romans.\\n \\nWorks Cited \\nBowern, Claire. “Where Did English Come from? - Claire Bowern.” Youtube, TED-Ed, 16 July 2015, https://www.youtube.com/watch?v=YEaSxhcns7Y. \\n \\nGardoqui, Kate. “How Did English Evolve? - Kate Gardoqui.” Youtube, TED-Ed, 27 Nov. 2012, https://www.youtube.com/watch?v=kIzFz9T5rhI. \\n \\n“History of English (Combined).” Youtube, OpenLearn from The Open University, 8 Nov. 2011, https://www.youtube.com/watch?v=H3r9bOkYW9s. \\n \\nMcAlpine, Fraser. “10 Words We Got from the Vikings.” BBC America, 1 Jan. 1966, http://www.bbcamerica.com/anglophenia/2015/10/10-words-we-got-from-the-vikings. \\n \\nMcWhorter, John. “English Is Not Normal.” Aeon, Aeon, 13 Nov. 2015, https://aeon.co/essays/why-is-english-so-weirdly-different-from-other-languages. \\n \\nNorthbrook, Julian. “Where Does the Word ‘English’ Come from?” Doing English, 25 May 2019, https://doingenglish.com/blog/where-does-the-word-english-come-from/. \\n \\n“The War That Changed the English Language - Mini-Wars #3.” Youtube, Oversimplified, 24 May 2018, https://www.youtube.com/watch?v=Jl3K63Rbygw. \\n '"
      ]
     },
     "execution_count": 30,
     "metadata": {},
     "output_type": "execute_result"
    }
   ],
   "source": [
    "text_list = [a.text for a in article.find_all('p')]\n",
    "\n",
    "text = '\\n'.join(text_list)\n",
    "text"
   ]
  },
  {
   "cell_type": "code",
   "execution_count": 34,
   "metadata": {},
   "outputs": [],
   "source": [
    "meta_data = [a.text for a in article.find_all('li')]\n",
    "full_name = meta_data[0].split(',')[0]\n",
    "school = meta_data[0].split(',')[1]\n",
    "short_name = full_name.split(' ')[0].lower()\n",
    "date = meta_data[3]\n",
    "category = meta_data[-1]"
   ]
  },
  {
   "cell_type": "code",
   "execution_count": 37,
   "metadata": {},
   "outputs": [
    {
     "data": {
      "text/plain": [
       "'---\\nlayout: post\\ntitle:  \"English, A Frankenstein Monster of a Language\"\\nauthor: joe\\ncategories: [ News ]\\nimage: assets/images/3.jpg\\n---\\n\\n \\nEnglish is a weird language. Any student who has had to memorize strange spelling anomalies or had to read aloud in class only to trip over a word with two different meanings and entirely different pronunciations can attest to this. For example, though they masquerade as the same word, lead (as in leader) and lead (as in the element) sound different when spoken. Taken to the extreme, sentences like “Buffalo buffalo Buffalo buffalo buffalo buffalo Buffalo buffalo” make complete grammatical sense. And, perhaps, consider that English is one of the only European languages in which nouns are not assigned gender. \\n \\nThere is a reason for these idiosyncrasies, though. The short answer is that English is a mutt of a language cobbled together from no less than four other languages. The long answer, however, requires a bit of history.\\n \\nFirst off, if you have ever been in a science class, then you are probably familiar with words like photosynthesis or Yttrium. You may already know that both words have Latin roots, but what you may not be aware of is how English acquired these words. Back in ye olden days when the Romans ruled England, they brought their customs with them. You might guess that this includes their language, but that is not entirely true. Latin never really took off in England. What did, however, was Christianity, which hung around England long after the Romans left. Christianity is important, because back in ye olden days, Latin was the language of the Church. And since in the Medieval era, authors tended to be from the Church, Latin became an integral part of literature. Not only were the clergy writing books, but being the most educated people of the day, these men would go on to study science (or what counted as science at the time). Likewise, clergymen became architects, mathematicians, teachers, etc. So when these men wrote down their notes or lessons or instructions, it was in Latin. In the centuries following, men of science would study the notes of their predecessors, and to keep things consistent, they adopted Latin when naming things. This is where English gets words like herbivore, agriculture, aqueducts, multiply, etc.\\n \\nRoman rule didn’t last forever in Britain. In the early 400s C.E., Romans left the island forever, allowing other peoples to conquer it. Enter Jutes, Saxons, and Angles, who crossed the channel at some point in the 500s and quickly conquered the island of Britain. These peoples settled the land, married each other, and created a new culture called Anglo-Saxon. Their languages fused together into what we call Old-English. They didn’t say they spoke Old-English; rather they spoke Anglish (referring to their homeland “of the Angles”). And where did these people speak Anglish? In Angleland of course, where they drank beer with their friends in their homes, after a hearty welcome. On Wednesday, Thursday, or Friday, an Anglo-Saxon would take care of his cows, sheep, and swines in the barn. All of these new words would become mainstays of the English language.\\n \\nBut that would not be the last time a conquering people would forever change English. In the late 700s C.E., a new group of people came to stay--Vikings. Much like the Anglo-Saxons, Vikings conquered areas of England and brought their culture with them. Of course, this includes their favorite pastimes. You know: slaughtering people by putting their axes in their victims’ skulls, outside of cottage windows. These words may sound ugly, but remember, the Vikings were a people of give and take, and at least they were happy with their husbands and sisters. With new people come new words that join the ranks of English vocabulary.\\n \\nLastly, in 1066, the Normans under William the Conqueror (well, you can guess) conquered England. You can probably predict what happens next. Except this time, it is a little different. William had just taken over a large kingdom and he needed people to run it. William didn’t trust the local Anglo-Saxons as he had just conquered them, so he brought over his own countrymen from across the English Channel and made them his new nobles. Thus, the language of royalty and nobility was not Old-English. Old-English was for the peasants and dirty workers. No, these Frenchmen would govern the lower classes as their sovereigns. The nobles would judge them with evidence, so that justice could be delivered. The Normans would not talk in their homes like farmers. They would parle in their castles and would invite their fellow gentry to a cordial reception. And if it wasn’t a bother, Norman guests would respond if they wanted beef or pork as the entree. When it came to government, the nobles formed councils and held parliament to discuss policies.\\n \\nAfter a few centuries, the languages of French, Old-English, Old-Norse, and Latin blended together into the language that we today call English. It should be noted that the italicized words are included above in contemporary spelling, which might not be the same as it was centuries ago. For example, while the word home comes from Anglo-Saxon origins, it would have been pronounced ham. As time went on, vowels changed and so did their spelling. A’s became O’s, and some vowels could be pronounced two different ways. So next time you fail a spelling bee or a English quiz be sure to blame the Normans, or the Vikings, or the Germans… or the Romans.\\n \\nWorks Cited \\nBowern, Claire. “Where Did English Come from? - Claire Bowern.” Youtube, TED-Ed, 16 July 2015, https://www.youtube.com/watch?v=YEaSxhcns7Y. \\n \\nGardoqui, Kate. “How Did English Evolve? - Kate Gardoqui.” Youtube, TED-Ed, 27 Nov. 2012, https://www.youtube.com/watch?v=kIzFz9T5rhI. \\n \\n“History of English (Combined).” Youtube, OpenLearn from The Open University, 8 Nov. 2011, https://www.youtube.com/watch?v=H3r9bOkYW9s. \\n \\nMcAlpine, Fraser. “10 Words We Got from the Vikings.” BBC America, 1 Jan. 1966, http://www.bbcamerica.com/anglophenia/2015/10/10-words-we-got-from-the-vikings. \\n \\nMcWhorter, John. “English Is Not Normal.” Aeon, Aeon, 13 Nov. 2015, https://aeon.co/essays/why-is-english-so-weirdly-different-from-other-languages. \\n \\nNorthbrook, Julian. “Where Does the Word ‘English’ Come from?” Doing English, 25 May 2019, https://doingenglish.com/blog/where-does-the-word-english-come-from/. \\n \\n“The War That Changed the English Language - Mini-Wars #3.” Youtube, Oversimplified, 24 May 2018, https://www.youtube.com/watch?v=Jl3K63Rbygw. \\n \\n\\n'"
      ]
     },
     "execution_count": 37,
     "metadata": {},
     "output_type": "execute_result"
    }
   ],
   "source": [
    "article = f\"\"\"---\n",
    "layout: post\n",
    "title:  \"{title}\"\n",
    "author: {short_name}\n",
    "categories: [ {category} ]\n",
    "image: assets/images/3.jpg\n",
    "---\n",
    "\n",
    "{text}\n",
    "\n",
    "\"\"\"\n",
    "article"
   ]
  }
 ],
 "metadata": {
  "kernelspec": {
   "display_name": "Python 3",
   "language": "python",
   "name": "python3"
  },
  "language_info": {
   "codemirror_mode": {
    "name": "ipython",
    "version": 3
   },
   "file_extension": ".py",
   "mimetype": "text/x-python",
   "name": "python",
   "nbconvert_exporter": "python",
   "pygments_lexer": "ipython3",
   "version": "3.11.3"
  },
  "orig_nbformat": 4
 },
 "nbformat": 4,
 "nbformat_minor": 2
}
